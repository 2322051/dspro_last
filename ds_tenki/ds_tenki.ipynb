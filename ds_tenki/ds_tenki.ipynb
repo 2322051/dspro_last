{
 "cells": [
  {
   "cell_type": "markdown",
   "metadata": {},
   "source": [
    "# 初期設定"
   ]
  },
  {
   "cell_type": "code",
   "execution_count": 1,
   "metadata": {},
   "outputs": [],
   "source": [
    "from selenium import webdriver\n",
    "from selenium.webdriver.common.by import By\n",
    "\n",
    "import time\n",
    "from selenium.webdriver.support.ui import Select\n",
    "import pandas as pd\n",
    "from selenium.webdriver.support.ui import Select,WebDriverWait\n",
    "from selenium.webdriver.support import expected_conditions as EC\n",
    "from selenium.common.exceptions import NoSuchElementException\n",
    "from selenium.common.exceptions import TimeoutException\n",
    "import re"
   ]
  },
  {
   "cell_type": "code",
   "execution_count": 2,
   "metadata": {},
   "outputs": [],
   "source": [
    "# ブラウザをheadlessモード実行\n",
    "options = webdriver.ChromeOptions()\n",
    "#ヘッドレスモード（バックグラウンドで起動）で実行。コラボの場合、必須。\n",
    "options.add_argument('--headless')\n",
    "#サンドボックスモードの解除。これも必須。\n",
    "options.add_argument('--no-sandbox')\n",
    "#これも設定した方がよい。\n",
    "options.add_argument('--disable-dev-shm-usage')\n",
    "wait = WebDriverWait(options,10)"
   ]
  },
  {
   "cell_type": "code",
   "execution_count": 3,
   "metadata": {},
   "outputs": [
    {
     "name": "stdout",
     "output_type": "stream",
     "text": [
      "サイトのタイトル： Google\n"
     ]
    }
   ],
   "source": [
    "driver = webdriver.Chrome()\n",
    "#指定したドライバーが見つかるまで待機\n",
    "driver.implicitly_wait(10)\n",
    "\n",
    "#urlの指定\n",
    "url=\"https://www.google.co.jp/\"\n",
    "\n",
    "driver.get(url)\n",
    "time.sleep(3)\n",
    "\n",
    "print(\"サイトのタイトル：\", driver.title)"
   ]
  },
  {
   "cell_type": "code",
   "execution_count": 4,
   "metadata": {},
   "outputs": [
    {
     "name": "stdout",
     "output_type": "stream",
     "text": [
      "['1', '2', '3', '4', '5', '6', '7', '8', '9', '10', '11', '12', '13', '14', '15', '16', '17', '18', '19', '20', '21', '22', '23', '24', '25', '26', '27', '28', '29', '30', '31']\n",
      "['1012.3', '1015.6', '1015.5', '1018.2', '1016.3', '1008.8', '1004.1', '1016.3', '1017.0', '1018.5', '1019.6', '1007.6', '1021.2', '1024.3', '1011.8', '1001.4', '1007.5', '1020.5', '1020.2', '1008.7', '1008.3', '1015.0', '1023.8', '1023.9', '1018.2', '1019.2', '1022.5', '1022.6', '1018.2', '1017.3', '1004.0']\n",
      "['8.7', '8.3', '9.1', '8.7', '8.1', '11.4', '12.9', '12.3', '11.9', '13.0', '13.4', '11.9', '10.8', '10.2', '11.0', '17.0', '11.2', '7.0', '7.0', '8.5', '7.7', '5.3', '5.0', '4.9', '6.3', '7.6', '8.4', '7.0', '7.8', '9.0', '9.2']\n",
      "['54', '60', '58', '53', '64', '77', '60', '49', '66', '65', '74', '92', '52', '62', '82', '71', '36', '36', '53', '59', '41', '38', '47', '55', '56', '58', '50', '56', '61', '63', '79']\n"
     ]
    }
   ],
   "source": [
    "driver = webdriver.Chrome()\n",
    "#指定したドライバーが見つかるまで待機\n",
    "driver.implicitly_wait(10)\n",
    "\n",
    "#urlの指定\n",
    "url=\"https://www.data.jma.go.jp/stats/etrn/view/daily_s1.php?prec_no=44&block_no=47662&year=2023&month=12&day=&view=\"\n",
    "\n",
    "driver.get(url)\n",
    "time.sleep(3)\n",
    "\n",
    "day = []\n",
    "kiatu_list = []\n",
    "kionn_list = []\n",
    "situdo_list = []\n",
    "\n",
    "for date in range(5,36):\n",
    "    a = driver.find_element(By.XPATH, f'//*[@id=\"tablefix1\"]/tbody/tr[{date}]/td[1]/div/a').text\n",
    "    day.append(a)\n",
    "\n",
    "    kiatu = driver.find_element(By.XPATH, f'//*[@id=\"tablefix1\"]/tbody/tr[{date}]/td[2]').text\n",
    "    kiatu_list.append(kiatu)\n",
    "\n",
    "    kionn = driver.find_element(By.XPATH, f'//*[@id=\"tablefix1\"]/tbody/tr[{date}]/td[7]').text\n",
    "    kionn_list.append(kionn)\n",
    "    \n",
    "    situdo = driver.find_element(By.XPATH, f'//*[@id=\"tablefix1\"]/tbody/tr[{date}]/td[10]').text\n",
    "    situdo_list.append(situdo)\n",
    "print(day)\n",
    "print(kiatu_list)\n",
    "print(kionn_list)\n",
    "print(situdo_list)"
   ]
  },
  {
   "cell_type": "code",
   "execution_count": 5,
   "metadata": {},
   "outputs": [],
   "source": [
    "import sqlite3\n",
    "\n",
    "# データベースに接続または作成\n",
    "conn = sqlite3.connect('tenki.sqlite')\n",
    "cursor = conn.cursor()"
   ]
  },
  {
   "cell_type": "code",
   "execution_count": 6,
   "metadata": {},
   "outputs": [
    {
     "data": {
      "text/plain": [
       "<sqlite3.Cursor at 0x103c11d40>"
      ]
     },
     "execution_count": 6,
     "metadata": {},
     "output_type": "execute_result"
    }
   ],
   "source": [
    "# テーブルの作成\n",
    "cursor.execute('''\n",
    "    CREATE TABLE IF NOT EXISTS weather_data (\n",
    "        id INTEGER PRIMARY KEY,\n",
    "        date TEXT,\n",
    "        pressure TEXT,\n",
    "        temperature TEXT,\n",
    "        humidity TEXT\n",
    "    )\n",
    "''')"
   ]
  },
  {
   "cell_type": "code",
   "execution_count": 7,
   "metadata": {},
   "outputs": [],
   "source": [
    "# データベースに挿入\n",
    "for i in range(len(day)):\n",
    "    cursor.execute('''\n",
    "        INSERT INTO weather_data (date, pressure, temperature, humidity) VALUES (?, ?, ?, ?)\n",
    "    ''', (day[i], kiatu_list[i], kionn_list[i], situdo_list[i]))\n",
    "\n",
    "# コミットとクローズ\n",
    "conn.commit()\n",
    "conn.close()"
   ]
  },
  {
   "cell_type": "code",
   "execution_count": 8,
   "metadata": {},
   "outputs": [],
   "source": [
    "#テーブルの削除\n",
    "# SQLiteデータベースに接続\n",
    "conn = sqlite3.connect('tenki.sqlite')\n",
    "cursor = conn.cursor()\n",
    "\n",
    "# テーブルを削除するSQL文の実行\n",
    "cursor.execute('DROP TABLE IF EXISTS local_tenki;')\n",
    "\n",
    "# 変更をコミット\n",
    "conn.commit()\n",
    "\n",
    "# 接続を閉じる\n",
    "conn.close()"
   ]
  },
  {
   "cell_type": "code",
   "execution_count": 9,
   "metadata": {},
   "outputs": [],
   "source": [
    "import csv\n",
    "\n",
    "# SQLiteデータベースに接続\n",
    "conn = sqlite3.connect('tenki.sqlite')\n",
    "cursor = conn.cursor()\n",
    "\n",
    "# テーブルの作成local\n",
    "cursor.execute('''\n",
    "    CREATE TABLE IF NOT EXISTS local_tenki (\n",
    "        date TEXT PRIMARY KEY,\n",
    "        steps TEXT,\n",
    "        stride_median TEXT,\n",
    "        calories_burned TEXT,\n",
    "        sedentary_calories_burned TEXT\n",
    "    )\n",
    "''')\n",
    "\n",
    "# コミットとクローズ\n",
    "conn.commit()\n",
    "conn.close()"
   ]
  },
  {
   "cell_type": "code",
   "execution_count": 10,
   "metadata": {},
   "outputs": [],
   "source": [
    "import csv\n",
    "\n",
    "# SQLiteデータベースに接続\n",
    "conn = sqlite3.connect('tenki.sqlite')\n",
    "cursor = conn.cursor()\n",
    "\n",
    "# CSVファイルの読み込みとデータベースへの挿入\n",
    "with open('/Users/takuto/dspro_last/ds_tenki/dspro_ローカルデータ.csv', 'r') as csv_file:\n",
    "    csv_reader = csv.reader(csv_file)\n",
    "\n",
    "    # ヘッダー行がある場合、読み飛ばす\n",
    "    next(csv_reader)\n",
    "\n",
    "    for row in csv_reader:\n",
    "        cursor.execute('''\n",
    "            INSERT INTO local_tenki (date, steps, stride_median, calories_burned, sedentary_calories_burned)\n",
    "            VALUES (?, ?, ?, ?, ?)\n",
    "        ''', (row[0], row[1], row[2], row[3], row[4]))\n",
    "\n",
    "# コミットとクローズ\n",
    "conn.commit()\n",
    "conn.close()"
   ]
  },
  {
   "cell_type": "code",
   "execution_count": null,
   "metadata": {},
   "outputs": [],
   "source": []
  },
  {
   "cell_type": "code",
   "execution_count": null,
   "metadata": {},
   "outputs": [],
   "source": []
  },
  {
   "cell_type": "markdown",
   "metadata": {},
   "source": [
    "# 2322008会長に教えてもらった"
   ]
  },
  {
   "cell_type": "markdown",
   "metadata": {},
   "source": []
  }
 ],
 "metadata": {
  "kernelspec": {
   "display_name": "dspro_last",
   "language": "python",
   "name": "python3"
  },
  "language_info": {
   "codemirror_mode": {
    "name": "ipython",
    "version": 3
   },
   "file_extension": ".py",
   "mimetype": "text/x-python",
   "name": "python",
   "nbconvert_exporter": "python",
   "pygments_lexer": "ipython3",
   "version": "3.11.6"
  }
 },
 "nbformat": 4,
 "nbformat_minor": 2
}
