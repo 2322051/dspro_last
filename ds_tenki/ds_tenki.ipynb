{
 "cells": [
  {
   "cell_type": "markdown",
   "metadata": {},
   "source": [
    "# 初期設定"
   ]
  },
  {
   "cell_type": "code",
   "execution_count": 1,
   "metadata": {},
   "outputs": [],
   "source": [
    "from selenium import webdriver\n",
    "from selenium.webdriver.common.by import By\n",
    "\n",
    "import time\n",
    "from selenium.webdriver.support.ui import Select\n",
    "import pandas as pd\n",
    "from selenium.webdriver.support.ui import Select,WebDriverWait\n",
    "from selenium.webdriver.support import expected_conditions as EC\n",
    "from selenium.common.exceptions import NoSuchElementException\n",
    "from selenium.common.exceptions import TimeoutException\n",
    "import re"
   ]
  },
  {
   "cell_type": "code",
   "execution_count": 2,
   "metadata": {},
   "outputs": [],
   "source": [
    "# ブラウザをheadlessモード実行\n",
    "options = webdriver.ChromeOptions()\n",
    "#ヘッドレスモード（バックグラウンドで起動）で実行。コラボの場合、必須。\n",
    "options.add_argument('--headless')\n",
    "#サンドボックスモードの解除。これも必須。\n",
    "options.add_argument('--no-sandbox')\n",
    "#これも設定した方がよい。\n",
    "options.add_argument('--disable-dev-shm-usage')\n",
    "wait = WebDriverWait(options,10)"
   ]
  },
  {
   "cell_type": "code",
   "execution_count": 3,
   "metadata": {},
   "outputs": [
    {
     "name": "stdout",
     "output_type": "stream",
     "text": [
      "サイトのタイトル： Google\n"
     ]
    }
   ],
   "source": [
    "driver = webdriver.Chrome()\n",
    "#指定したドライバーが見つかるまで待機\n",
    "driver.implicitly_wait(10)\n",
    "\n",
    "#urlの指定\n",
    "url=\"https://www.google.co.jp/\"\n",
    "\n",
    "driver.get(url)\n",
    "time.sleep(3)\n",
    "\n",
    "print(\"サイトのタイトル：\", driver.title)"
   ]
  },
  {
   "cell_type": "code",
   "execution_count": 7,
   "metadata": {},
   "outputs": [
    {
     "name": "stdout",
     "output_type": "stream",
     "text": [
      "['1', '2', '3', '4', '5', '6', '7', '8', '9', '10', '11', '12', '13', '14', '15', '16', '17', '18', '19', '20', '21', '22', '23', '24', '25', '26', '27', '28', '29', '30']\n",
      "['1012.3', '1015.6', '1015.5', '1018.2', '1016.3', '1008.8', '1004.1', '1016.3', '1017.0', '1018.5', '1019.6', '1007.6', '1021.2', '1024.3', '1011.8', '1001.4', '1007.5', '1020.5', '1020.2', '1008.7', '1008.3', '1015.0', '1023.8', '1023.9', '1018.2', '1019.2', '1022.5', '1022.6', '1018.2', '1017.3']\n"
     ]
    }
   ],
   "source": [
    "driver = webdriver.Chrome()\n",
    "#指定したドライバーが見つかるまで待機\n",
    "driver.implicitly_wait(10)\n",
    "\n",
    "#urlの指定\n",
    "url=\"https://www.data.jma.go.jp/stats/etrn/view/daily_s1.php?prec_no=44&block_no=47662&year=2023&month=12&day=&view=\"\n",
    "\n",
    "driver.get(url)\n",
    "time.sleep(3)\n",
    "\n",
    "day = []\n",
    "kiatu_list = []\n",
    "for date in range(5,35):\n",
    "    a = driver.find_element(By.XPATH, f'//*[@id=\"tablefix1\"]/tbody/tr[{date}]/td[1]/div/a').text\n",
    "    day.append(a)\n",
    "\n",
    "    kiatu = driver.find_element(By.XPATH, f'//*[@id=\"tablefix1\"]/tbody/tr[{date}]/td[2]').text\n",
    "    kiatu_list.append(kiatu)\n",
    "print(day)\n",
    "print(kiatu_list)\n"
   ]
  },
  {
   "cell_type": "code",
   "execution_count": null,
   "metadata": {},
   "outputs": [],
   "source": [
    "//*[@id=\"tablefix1\"]/tbody/tr[5]/td[1]/div/a"
   ]
  },
  {
   "cell_type": "code",
   "execution_count": null,
   "metadata": {},
   "outputs": [],
   "source": [
    "//*[@id=\"tablefix1\"]/tbody/tr[5]/td[2]"
   ]
  },
  {
   "cell_type": "markdown",
   "metadata": {},
   "source": [
    "# 2322008会長に教えてもらった"
   ]
  },
  {
   "cell_type": "markdown",
   "metadata": {},
   "source": []
  }
 ],
 "metadata": {
  "kernelspec": {
   "display_name": "dspro_last",
   "language": "python",
   "name": "python3"
  },
  "language_info": {
   "codemirror_mode": {
    "name": "ipython",
    "version": 3
   },
   "file_extension": ".py",
   "mimetype": "text/x-python",
   "name": "python",
   "nbconvert_exporter": "python",
   "pygments_lexer": "ipython3",
   "version": "3.11.6"
  }
 },
 "nbformat": 4,
 "nbformat_minor": 2
}
