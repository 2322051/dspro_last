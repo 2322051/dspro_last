{
 "cells": [
  {
   "cell_type": "code",
   "execution_count": 1,
   "metadata": {},
   "outputs": [
    {
     "ename": "ModuleNotFoundError",
     "evalue": "No module named 'sklearn'",
     "output_type": "error",
     "traceback": [
      "\u001b[0;31m---------------------------------------------------------------------------\u001b[0m",
      "\u001b[0;31mModuleNotFoundError\u001b[0m                       Traceback (most recent call last)",
      "Cell \u001b[0;32mIn[1], line 3\u001b[0m\n\u001b[1;32m      1\u001b[0m \u001b[38;5;28;01mimport\u001b[39;00m \u001b[38;5;21;01msqlite3\u001b[39;00m\n\u001b[1;32m      2\u001b[0m \u001b[38;5;28;01mimport\u001b[39;00m \u001b[38;5;21;01mnumpy\u001b[39;00m \u001b[38;5;28;01mas\u001b[39;00m \u001b[38;5;21;01mnp\u001b[39;00m\n\u001b[0;32m----> 3\u001b[0m \u001b[38;5;28;01mfrom\u001b[39;00m \u001b[38;5;21;01msklearn\u001b[39;00m\u001b[38;5;21;01m.\u001b[39;00m\u001b[38;5;21;01mmetrics\u001b[39;00m\u001b[38;5;21;01m.\u001b[39;00m\u001b[38;5;21;01mpairwise\u001b[39;00m \u001b[38;5;28;01mimport\u001b[39;00m cosine_similarity\n\u001b[1;32m      5\u001b[0m \u001b[38;5;66;03m# データベースへの接続\u001b[39;00m\n\u001b[1;32m      6\u001b[0m conn \u001b[38;5;241m=\u001b[39m sqlite3\u001b[38;5;241m.\u001b[39mconnect(\u001b[38;5;124m'\u001b[39m\u001b[38;5;124mtenki.sqlite\u001b[39m\u001b[38;5;124m'\u001b[39m)\n",
      "\u001b[0;31mModuleNotFoundError\u001b[0m: No module named 'sklearn'"
     ]
    }
   ],
   "source": [
    "import sqlite3\n",
    "import numpy as np\n",
    "from sklearn.metrics.pairwise import cosine_similarity\n",
    "\n",
    "# データベースへの接続\n",
    "conn = sqlite3.connect('tenki.sqlite')\n",
    "cursor = conn.cursor()\n",
    "\n",
    "# データベースからデータの取得\n",
    "cursor.execute('SELECT column1, column2, ... FROM weather_data')\n",
    "data1 = cursor.fetchall()\n",
    "\n",
    "cursor.execute('SELECT column3, column4, ... FROM local_tenki')\n",
    "data2 = cursor.fetchall()\n",
    "\n",
    "# データベース接続を閉じる\n",
    "conn.close()\n",
    "\n",
    "# データをNumPyの配列に変換\n",
    "data1_array = np.array(data1)\n",
    "data2_array = np.array(data2)\n",
    "\n",
    "# コサイン類似度の計算\n",
    "cosine_similarity_matrix = cosine_similarity(data1_array, data2_array)\n",
    "cosine_similarity_value = cosine_similarity_matrix[0, 0]  # 例として1つの類似度を取得\n",
    "\n",
    "print(\"コサイン類似度:\", cosine_similarity_value)"
   ]
  }
 ],
 "metadata": {
  "kernelspec": {
   "display_name": "dspro_last",
   "language": "python",
   "name": "python3"
  },
  "language_info": {
   "codemirror_mode": {
    "name": "ipython",
    "version": 3
   },
   "file_extension": ".py",
   "mimetype": "text/x-python",
   "name": "python",
   "nbconvert_exporter": "python",
   "pygments_lexer": "ipython3",
   "version": "3.11.6"
  }
 },
 "nbformat": 4,
 "nbformat_minor": 2
}
